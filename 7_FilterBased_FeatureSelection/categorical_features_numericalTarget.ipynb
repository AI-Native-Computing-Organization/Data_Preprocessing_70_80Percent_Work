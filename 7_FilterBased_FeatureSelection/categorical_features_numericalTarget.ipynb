{
 "cells": [
  {
   "cell_type": "code",
   "execution_count": 189,
   "id": "d2d8e82a",
   "metadata": {},
   "outputs": [],
   "source": [
    "import pandas as pd\n",
    "from sklearn.feature_selection import SelectKBest, mutual_info_regression\n",
    "from sklearn.impute import SimpleImputer\n",
    "from sklearn.preprocessing import OrdinalEncoder"
   ]
  },
  {
   "cell_type": "code",
   "execution_count": 190,
   "id": "c91390d4",
   "metadata": {},
   "outputs": [],
   "source": [
    "# Load and preprocess data\n",
    "df = pd.read_csv(\"sample_dataset.csv\")\n",
    "\n",
    "\"\"\"As there are NAN existing, \n",
    "SelectKBest and OrdinalEncoder cannot handle NaN values\n",
    "\n",
    "SimpleImputer was included as a precautionary data cleaning step\"\"\"\n",
    "\n",
    "\n",
    "imputer = SimpleImputer(strategy='most_frequent')\n",
    "df_imputed = pd.DataFrame(imputer.fit_transform(df), columns=df.columns)\n",
    "\n"
   ]
  },
  {
   "cell_type": "code",
   "execution_count": 191,
   "id": "cec5ab0b",
   "metadata": {},
   "outputs": [],
   "source": [
    "# Prepare features and target\n",
    "X = df_imputed.iloc[:, 0:10]\n",
    "y = df_imputed['radius error']\n",
    "\n"
   ]
  },
  {
   "cell_type": "code",
   "execution_count": 192,
   "id": "d80903a6",
   "metadata": {},
   "outputs": [],
   "source": [
    "# Encode categorical features\n",
    "encoder = OrdinalEncoder(handle_unknown='use_encoded_value', unknown_value=-1)\n",
    "X_encoded = encoder.fit_transform(X)\n",
    "\n"
   ]
  },
  {
   "cell_type": "code",
   "execution_count": 193,
   "id": "dfebee62",
   "metadata": {},
   "outputs": [],
   "source": [
    "# Feature selection\n",
    "selector = SelectKBest(\n",
    "    lambda X, y: mutual_info_regression(X, y, discrete_features='auto'),\n",
    "    k=5\n",
    ")\n",
    "X_selected = selector.fit_transform(X_encoded, y)\n",
    "selected_features = X.columns[selector.get_support()]\n",
    "\n"
   ]
  },
  {
   "cell_type": "code",
   "execution_count": 194,
   "id": "8081cb0e",
   "metadata": {},
   "outputs": [
    {
     "data": {
      "text/plain": [
       "array([[137., 411., 321., 401., 357.],\n",
       "       [370., 440., 366., 238., 267.],\n",
       "       [355., 433., 344.,   0.,   0.],\n",
       "       ...,\n",
       "       [296., 370.,  37.,   0., 221.],\n",
       "       [373., 453., 357., 410., 360.],\n",
       "       [  3.,   1.,   3.,   0.,   0.]], shape=(569, 5))"
      ]
     },
     "execution_count": 194,
     "metadata": {},
     "output_type": "execute_result"
    }
   ],
   "source": [
    "X_selected"
   ]
  },
  {
   "cell_type": "code",
   "execution_count": 195,
   "id": "3777741e",
   "metadata": {},
   "outputs": [
    {
     "data": {
      "text/plain": [
       "Index(['mean radius', 'mean perimeter', 'mean area', 'mean concavity',\n",
       "       'mean concave points'],\n",
       "      dtype='object')"
      ]
     },
     "execution_count": 195,
     "metadata": {},
     "output_type": "execute_result"
    }
   ],
   "source": [
    "selected_features"
   ]
  },
  {
   "cell_type": "code",
   "execution_count": 196,
   "id": "a142d9a8",
   "metadata": {},
   "outputs": [
    {
     "name": "stdout",
     "output_type": "stream",
     "text": [
      "Selected features: ['mean radius', 'mean perimeter', 'mean area', 'mean concavity', 'mean concave points']\n"
     ]
    },
    {
     "data": {
      "text/plain": [
       "\"The output shows the 5 most important features for predicting the 'radius error' target variable, \\nselected using mutual information regression.\""
      ]
     },
     "execution_count": 196,
     "metadata": {},
     "output_type": "execute_result"
    }
   ],
   "source": [
    "# Output results\n",
    "print(\"Selected features:\", selected_features.tolist())\n",
    "\n",
    "\"\"\"The output shows the 5 most important features for predicting the 'radius error' target variable, \n",
    "selected using mutual information regression.\"\"\""
   ]
  }
 ],
 "metadata": {
  "kernelspec": {
   "display_name": "ML_0_Hero",
   "language": "python",
   "name": "python3"
  },
  "language_info": {
   "codemirror_mode": {
    "name": "ipython",
    "version": 3
   },
   "file_extension": ".py",
   "mimetype": "text/x-python",
   "name": "python",
   "nbconvert_exporter": "python",
   "pygments_lexer": "ipython3",
   "version": "3.12.9"
  }
 },
 "nbformat": 4,
 "nbformat_minor": 5
}
