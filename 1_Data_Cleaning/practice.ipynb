{
 "cells": [
  {
   "cell_type": "markdown",
   "id": "2a629343",
   "metadata": {},
   "source": [
    "# Using sample_dataset.csv, replace  missing values in the categorical column with 'N' and replace missing values in numerical column with mean value"
   ]
  },
  {
   "cell_type": "markdown",
   "id": "352209e6",
   "metadata": {},
   "source": [
    "# Using sample_dataset.csv, replace  missing values in the float variables using KNN  with 10 neighbors and a distance based weights, Also replace missing categorical valraibles  using most  frequent values"
   ]
  }
 ],
 "metadata": {
  "language_info": {
   "name": "python"
  }
 },
 "nbformat": 4,
 "nbformat_minor": 5
}
