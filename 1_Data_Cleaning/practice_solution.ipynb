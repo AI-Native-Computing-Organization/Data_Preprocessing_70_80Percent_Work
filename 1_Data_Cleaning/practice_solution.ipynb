{
 "cells": [
  {
   "cell_type": "markdown",
   "id": "2a629343",
   "metadata": {},
   "source": [
    "# Using sample_dataset.csv, replace  missing values in the categorical column with 'N' and replace missing values in numerical column with mean value"
   ]
  },
  {
   "cell_type": "code",
   "execution_count": 1,
   "id": "eb250074",
   "metadata": {},
   "outputs": [
    {
     "data": {
      "text/plain": [
       "array([[14.059547717842323, 10.38, 122.8, ..., 0.1189, 0.0, 'A'],\n",
       "       [20.57, 17.77, 132.9, ..., 0.08436317021276594, 0.0, 'A'],\n",
       "       [19.69, 21.25, 130.0, ..., 0.08758, 0.0, 'A'],\n",
       "       ...,\n",
       "       [16.6, 28.08, 108.3, ..., 0.0782, 0.0, 'A'],\n",
       "       [20.6, 29.33, 140.1, ..., 0.124, 0.0, 'A'],\n",
       "       [7.76, 19.311829268292684, 47.92, ..., 0.07039, 1.0, 'A']],\n",
       "      shape=(569, 31), dtype=object)"
      ]
     },
     "execution_count": 1,
     "metadata": {},
     "output_type": "execute_result"
    }
   ],
   "source": [
    "import pandas as pd\n",
    "from sklearn.compose import make_column_selector, ColumnTransformer\n",
    "from sklearn.impute import SimpleImputer\n",
    "\n",
    "df=pd.read_csv('sample_dataset.csv')\n",
    "cleaner=ColumnTransformer([\n",
    "    ('numerical_transformer',SimpleImputer(strategy='mean'),make_column_selector(dtype_exclude=\"object\")), #applying to numerical columns\n",
    "    ('categorical_transformer',SimpleImputer(strategy='constant',fill_value='N'),make_column_selector(dtype_include=\"object\")) #applying to categorical column\n",
    "])\n",
    "\n",
    "cleaner.fit_transform(df)"
   ]
  },
  {
   "cell_type": "markdown",
   "id": "352209e6",
   "metadata": {},
   "source": [
    "# Using sample_dataset.csv, replace  missing values in the float variables using KNN  with 10 neighbors and a distance based weights, Also replace missing categorical valraibles  using most  frequent values"
   ]
  },
  {
   "cell_type": "code",
   "execution_count": 3,
   "id": "fd8a1c47",
   "metadata": {},
   "outputs": [
    {
     "data": {
      "text/plain": [
       "array([[15.637884267617215, 10.38, 122.8, ..., 0.1189, 'A', 0],\n",
       "       [20.57, 17.77, 132.9, ..., 0.08216467870588637, 'A', 0],\n",
       "       [19.69, 21.25, 130.0, ..., 0.08758, 'A', 0],\n",
       "       ...,\n",
       "       [16.6, 28.08, 108.3, ..., 0.0782, 'A', 0],\n",
       "       [20.6, 29.33, 140.1, ..., 0.124, 'A', 0],\n",
       "       [7.76, 21.69242735427763, 47.92, ..., 0.07039, 'A', 1]],\n",
       "      shape=(569, 31), dtype=object)"
      ]
     },
     "execution_count": 3,
     "metadata": {},
     "output_type": "execute_result"
    }
   ],
   "source": [
    "from sklearn.impute import KNNImputer\n",
    "\n",
    "df=pd.read_csv('sample_dataset.csv')\n",
    "cleaner=ColumnTransformer([\n",
    "    ('float_variables',KNNImputer(n_neighbors=10,weights='distance'),make_column_selector(dtype_include=\"float64\")), #applying to numerical columns\n",
    "    ('categorical_transformer',SimpleImputer(strategy='most_frequent'),make_column_selector(dtype_exclude=\"float64\")) #applying to categorical column\n",
    "])\n",
    "\n",
    "cleaner.fit_transform(df)"
   ]
  }
 ],
 "metadata": {
  "kernelspec": {
   "display_name": "ML_0_Hero",
   "language": "python",
   "name": "python3"
  },
  "language_info": {
   "codemirror_mode": {
    "name": "ipython",
    "version": 3
   },
   "file_extension": ".py",
   "mimetype": "text/x-python",
   "name": "python",
   "nbconvert_exporter": "python",
   "pygments_lexer": "ipython3",
   "version": "3.12.9"
  }
 },
 "nbformat": 4,
 "nbformat_minor": 5
}
